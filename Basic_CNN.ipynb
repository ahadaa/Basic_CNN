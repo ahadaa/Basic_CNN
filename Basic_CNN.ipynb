{
  "metadata": {
    "language_info": {
      "codemirror_mode": {
        "name": "python",
        "version": 3
      },
      "file_extension": ".py",
      "mimetype": "text/x-python",
      "name": "python",
      "nbconvert_exporter": "python",
      "pygments_lexer": "ipython3",
      "version": "3.8"
    },
    "kernelspec": {
      "name": "python",
      "display_name": "Python (Pyodide)",
      "language": "python"
    },
    "colab": {
      "provenance": []
    }
  },
  "nbformat_minor": 0,
  "nbformat": 4,
  "cells": [
    {
      "cell_type": "markdown",
      "source": [
        "\n",
        "## Setup\n",
        "\"\"\""
      ],
      "metadata": {
        "id": "-vkHSwjPbdry"
      }
    },
    {
      "cell_type": "code",
      "source": [
        "import numpy as np\n",
        "import tensorflow as tf\n",
        "from tensorflow import keras\n",
        "from tensorflow.keras import layers\n",
        "from tensorflow.python.ops.gen_nn_ops import Relu\n",
        "from tensorflow.keras.models import Sequential\n",
        "from tensorflow.keras.layers import Conv2D, Flatten, Dense"
      ],
      "metadata": {
        "id": "GzsjxwYXbdr3"
      },
      "execution_count": 4,
      "outputs": []
    },
    {
      "cell_type": "markdown",
      "source": [
        "\"\"\"\n",
        "## Prepare the data\n",
        "\"\"\""
      ],
      "metadata": {
        "id": "vk_xIEX2bdr4"
      }
    },
    {
      "cell_type": "code",
      "source": [
        "# Model / data parameters\n",
        "num_classes = 10\n",
        "input_shape = (28, 28, 1)\n",
        "\n",
        "# Load the data and split it between train and test sets\n",
        "(x_train, y_train), (x_test, y_test) = keras.datasets.mnist.load_data()\n",
        "\n",
        "# Scale images to the [0, 1] range\n",
        "\n",
        "x_train = x_train.astype(\"float32\") / 255\n",
        "x_test = x_test.astype(\"float32\") / 255\n",
        "\n",
        "# Make sure images have shape (28, 28, 1)\n",
        "x_train = np.expand_dims(x_train, -1)\n",
        "x_test = np.expand_dims(x_test, -1)\n",
        "\n",
        "print(\"x_train shape:\", x_train.shape)\n",
        "print(x_train.shape[0], \"train samples\")\n",
        "print(x_test.shape[0], \"test samples\")\n",
        "\n",
        "\n",
        "# convert class vectors to binary class matrices\n",
        "y_train = keras.utils.to_categorical(y_train, num_classes)\n",
        "y_test = keras.utils.to_categorical(y_test, num_classes)"
      ],
      "metadata": {
        "colab": {
          "base_uri": "https://localhost:8080/"
        },
        "id": "LWuT_53mbdr5",
        "outputId": "747eaf4a-1b72-493b-f870-15f086a5b296"
      },
      "execution_count": 2,
      "outputs": [
        {
          "output_type": "stream",
          "name": "stdout",
          "text": [
            "Downloading data from https://storage.googleapis.com/tensorflow/tf-keras-datasets/mnist.npz\n",
            "11490434/11490434 [==============================] - 0s 0us/step\n",
            "x_train shape: (60000, 28, 28, 1)\n",
            "60000 train samples\n",
            "10000 test samples\n"
          ]
        }
      ]
    },
    {
      "cell_type": "markdown",
      "source": [
        "#### <font color='red'> Please print out a sample of 10 Images"
      ],
      "metadata": {
        "id": "GJlr7pnXbdr5"
      }
    },
    {
      "cell_type": "markdown",
      "source": [
        "\"\"\"\n",
        "## Build the model\n",
        "\"\"\"\n",
        "![image.png](attachment:a6f17fe3-ae01-4ea0-87e1-d420cfa79ebf.png)![image.png](attachment:58167992-4142-4aaa-87f1-fef9ae7c125f.png)\n",
        "In words, we want to have these layers:\n",
        "\n",
        "- Conv2D layer 1: 32 neurons, ReLU activation, Kernel Size (3,3)\n",
        "- MaxPooling2D layer 1: Pool Size(2,2)\n",
        "- Conv2D layer 2: 64 neurons, ReLU activation, Kernel Size (3,3)\n",
        "- MaxPooling2D layer 2: Pool Size(2,2)\n",
        "- Flattening Layer\n",
        "- Fully connected Dense Output Layer: 10 neuron(10 Digits), Softmax activation"
      ],
      "metadata": {
        "tags": [],
        "id": "RJ2wpnQEbdr6"
      }
    },
    {
      "cell_type": "markdown",
      "source": [
        "\"\"\"\n",
        "## Train the model\n",
        "\"\"\"\n",
        "![image.png](attachment:ba56532b-41e9-479a-b166-d99ba5acf663.png)"
      ],
      "metadata": {
        "id": "PhHuEfqkbdr6"
      }
    },
    {
      "cell_type": "code",
      "source": [
        "#Model Archictecure\n",
        "model = Sequential()\n",
        "model.add(Conv2D(filters =32, kernel_size =(3,3), activation = 'relu',input_shape = (28,28,1)))\n",
        "keras.layers.Dropout(0.2),\n",
        "model.add(layers.MaxPooling2D(2,2))\n",
        "model.add(Conv2D(filters =64, kernel_size =(3,3), activation = 'relu',input_shape = (28,28,1)))\n",
        "keras.layers.Dropout(0.2),\n",
        "model.add(layers.MaxPooling2D(2,2))\n",
        "model.add(layers.Flatten())\n",
        "model.add(Dense(10, activation = 'softmax'))\n",
        "model.summary()"
      ],
      "metadata": {
        "colab": {
          "base_uri": "https://localhost:8080/"
        },
        "id": "TtlPSH8Qbdr6",
        "outputId": "1102a96a-9f5c-4aa7-b338-a03dbe14c5db"
      },
      "execution_count": 5,
      "outputs": [
        {
          "output_type": "stream",
          "name": "stdout",
          "text": [
            "Model: \"sequential\"\n",
            "_________________________________________________________________\n",
            " Layer (type)                Output Shape              Param #   \n",
            "=================================================================\n",
            " conv2d (Conv2D)             (None, 26, 26, 32)        320       \n",
            "                                                                 \n",
            " max_pooling2d (MaxPooling2  (None, 13, 13, 32)        0         \n",
            " D)                                                              \n",
            "                                                                 \n",
            " conv2d_1 (Conv2D)           (None, 11, 11, 64)        18496     \n",
            "                                                                 \n",
            " max_pooling2d_1 (MaxPoolin  (None, 5, 5, 64)          0         \n",
            " g2D)                                                            \n",
            "                                                                 \n",
            " flatten (Flatten)           (None, 1600)              0         \n",
            "                                                                 \n",
            " dense (Dense)               (None, 10)                16010     \n",
            "                                                                 \n",
            "=================================================================\n",
            "Total params: 34826 (136.04 KB)\n",
            "Trainable params: 34826 (136.04 KB)\n",
            "Non-trainable params: 0 (0.00 Byte)\n",
            "_________________________________________________________________\n"
          ]
        }
      ]
    },
    {
      "cell_type": "code",
      "source": [
        "batch_size = 128\n",
        "epochs = 15"
      ],
      "metadata": {
        "id": "Jn9fz1h_bdr6"
      },
      "execution_count": 6,
      "outputs": []
    },
    {
      "cell_type": "code",
      "source": [
        "# Model Compile\n",
        "model.compile(optimizer='adam', loss='binary_crossentropy', metrics=['accuracy'])"
      ],
      "metadata": {
        "id": "UQqbyLN7bdr7"
      },
      "execution_count": 7,
      "outputs": []
    },
    {
      "cell_type": "code",
      "source": [
        "model.summary()"
      ],
      "metadata": {
        "colab": {
          "base_uri": "https://localhost:8080/"
        },
        "id": "OHVxYZ9VWknC",
        "outputId": "4740ab2a-8d4c-476a-c5f8-9b7cacaa6e22"
      },
      "execution_count": 8,
      "outputs": [
        {
          "output_type": "stream",
          "name": "stdout",
          "text": [
            "Model: \"sequential\"\n",
            "_________________________________________________________________\n",
            " Layer (type)                Output Shape              Param #   \n",
            "=================================================================\n",
            " conv2d (Conv2D)             (None, 26, 26, 32)        320       \n",
            "                                                                 \n",
            " max_pooling2d (MaxPooling2  (None, 13, 13, 32)        0         \n",
            " D)                                                              \n",
            "                                                                 \n",
            " conv2d_1 (Conv2D)           (None, 11, 11, 64)        18496     \n",
            "                                                                 \n",
            " max_pooling2d_1 (MaxPoolin  (None, 5, 5, 64)          0         \n",
            " g2D)                                                            \n",
            "                                                                 \n",
            " flatten (Flatten)           (None, 1600)              0         \n",
            "                                                                 \n",
            " dense (Dense)               (None, 10)                16010     \n",
            "                                                                 \n",
            "=================================================================\n",
            "Total params: 34826 (136.04 KB)\n",
            "Trainable params: 34826 (136.04 KB)\n",
            "Non-trainable params: 0 (0.00 Byte)\n",
            "_________________________________________________________________\n"
          ]
        }
      ]
    },
    {
      "cell_type": "code",
      "source": [
        "# Model training/Fit\n",
        "history = model.fit(x_train, y_train, epochs=10, batch_size=32, validation_split=0.2)"
      ],
      "metadata": {
        "id": "uelGu5Adbdr7",
        "colab": {
          "base_uri": "https://localhost:8080/"
        },
        "outputId": "9b4277c2-601d-44e4-8e3d-7f5788d83e27"
      },
      "execution_count": 9,
      "outputs": [
        {
          "output_type": "stream",
          "name": "stdout",
          "text": [
            "Epoch 1/10\n",
            "1500/1500 [==============================] - 40s 26ms/step - loss: 0.0489 - accuracy: 0.9309 - val_loss: 0.0187 - val_accuracy: 0.9783\n",
            "Epoch 2/10\n",
            "1500/1500 [==============================] - 39s 26ms/step - loss: 0.0157 - accuracy: 0.9822 - val_loss: 0.0132 - val_accuracy: 0.9853\n",
            "Epoch 3/10\n",
            "1500/1500 [==============================] - 38s 25ms/step - loss: 0.0115 - accuracy: 0.9873 - val_loss: 0.0118 - val_accuracy: 0.9875\n",
            "Epoch 4/10\n",
            "1500/1500 [==============================] - 40s 27ms/step - loss: 0.0091 - accuracy: 0.9901 - val_loss: 0.0111 - val_accuracy: 0.9875\n",
            "Epoch 5/10\n",
            "1500/1500 [==============================] - 39s 26ms/step - loss: 0.0074 - accuracy: 0.9921 - val_loss: 0.0103 - val_accuracy: 0.9887\n",
            "Epoch 6/10\n",
            "1500/1500 [==============================] - 38s 25ms/step - loss: 0.0063 - accuracy: 0.9939 - val_loss: 0.0097 - val_accuracy: 0.9898\n",
            "Epoch 7/10\n",
            "1500/1500 [==============================] - 39s 26ms/step - loss: 0.0053 - accuracy: 0.9950 - val_loss: 0.0091 - val_accuracy: 0.9914\n",
            "Epoch 8/10\n",
            "1500/1500 [==============================] - 40s 27ms/step - loss: 0.0045 - accuracy: 0.9958 - val_loss: 0.0092 - val_accuracy: 0.9909\n",
            "Epoch 9/10\n",
            "1500/1500 [==============================] - 37s 25ms/step - loss: 0.0040 - accuracy: 0.9966 - val_loss: 0.0100 - val_accuracy: 0.9903\n",
            "Epoch 10/10\n",
            "1500/1500 [==============================] - 39s 26ms/step - loss: 0.0034 - accuracy: 0.9971 - val_loss: 0.0088 - val_accuracy: 0.9912\n"
          ]
        }
      ]
    },
    {
      "cell_type": "markdown",
      "source": [
        "\"\"\"\n",
        "## Evaluate the trained model\n",
        "\"\"\""
      ],
      "metadata": {
        "id": "mX9KqqLcbdr8"
      }
    },
    {
      "cell_type": "code",
      "source": [
        "test_loss, test_accuracy = model.evaluate(x_test, y_test, verbose=2)"
      ],
      "metadata": {
        "id": "9i1enqn7bdr8",
        "colab": {
          "base_uri": "https://localhost:8080/"
        },
        "outputId": "94dd205a-411d-4c4b-a985-f914bb871735"
      },
      "execution_count": 10,
      "outputs": [
        {
          "output_type": "stream",
          "name": "stdout",
          "text": [
            "313/313 - 2s - loss: 0.0079 - accuracy: 0.9922 - 2s/epoch - 6ms/step\n"
          ]
        }
      ]
    }
  ]
}